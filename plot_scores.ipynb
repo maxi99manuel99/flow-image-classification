{
 "cells": [
  {
   "cell_type": "code",
   "execution_count": 1,
   "metadata": {},
   "outputs": [],
   "source": [
    "import pandas as pd\n",
    "import numpy as np\n",
    "import torch\n",
    "\n",
    "import matplotlib.pyplot as plt\n",
    "import ast\n",
    "import json\n",
    "import operator\n",
    "import seaborn as sn\n",
    "\n",
    "PREPROCESSED_CLASSES = ['BitTorrent', 'Cridex', 'FTP', 'Geodo', 'Gmail', 'Htbot', 'Miuref', 'Neris', 'Nsis-ay', 'Outlook', 'SMB', 'Virut', 'Weibo', 'WorldOfWarcraft']\n",
    "PREPROCESSED_CLASSES_NERIS_VIRUT = ['BitTorrent', 'Cridex', 'FTP', 'Geodo', 'Gmail', 'Htbot', 'Miuref', 'Neris/Virut', 'Nsis-ay', 'Outlook', 'SMB', 'Weibo', 'WorldOfWarcraft']\n",
    "\n",
    "PAYLOAD_CLASSES = ['BitTorrent', 'Cridex', 'FTP', 'Gmail', 'Htbot', 'Neris', 'Nsis-ay', 'Outlook', 'SMB', 'Shifu', 'Virut', 'Weibo']\n",
    "PAYLOAD_CLASSES_NERIS_VIRUT = ['BitTorrent', 'Cridex', 'FTP', 'Gmail', 'Htbot', 'Neris/Virut', 'Nsis-ay', 'Outlook', 'SMB', 'Shifu', 'Weibo']\n",
    "BINARY_CLASSES = ['Benign', 'Malware']"
   ]
  },
  {
   "cell_type": "markdown",
   "metadata": {},
   "source": [
    "# Standard plots for one training task (model dataset combination)"
   ]
  },
  {
   "cell_type": "code",
   "execution_count": 13,
   "metadata": {},
   "outputs": [
    {
     "data": {
      "text/plain": [
       "<Figure size 3500x800 with 0 Axes>"
      ]
     },
     "metadata": {},
     "output_type": "display_data"
    },
    {
     "data": {
      "text/plain": [
       "<Figure size 3500x800 with 0 Axes>"
      ]
     },
     "metadata": {},
     "output_type": "display_data"
    }
   ],
   "source": [
    "csv_files = [\"/home/manuel/Bachelorarbeit/results/saved_models-new/multiclass/preprocessed/vgg-19/notop_nerisvirut/scores1.csv\", \"/home/manuel/Bachelorarbeit/results/saved_models-new/multiclass/preprocessed/vgg-19/fc_nerisvirut/scores1.csv\", \"/home/manuel/Bachelorarbeit/results/saved_models-new/multiclass/preprocessed/resnet-50/resnet_nerisvirut/scores1.csv\", \"/home/manuel/Bachelorarbeit/results/saved_models-new/multiclass/preprocessed/resnet-50/next_nerisvirut/scores1.csv\"] \n",
    "\n",
    "train_losses = []\n",
    "val_losses = []\n",
    "val_accuracies = []\n",
    "val_f1 = []\n",
    "val_kappa = []\n",
    "\n",
    "\n",
    "for file in csv_files:\n",
    "    if file.endswith(\".csv\"):\n",
    "        df = pd.read_csv(file)\n",
    "        # Training loss will be tracked during the whole training process\n",
    "        train_losses += df[\"training-losses\"].to_list()\n",
    "\n",
    "        val_losses += df[\"loss\"].to_list()\n",
    "        val_accuracies += df[\"accuracy\"].to_list()\n",
    "        val_f1 += df[\"macro-f1\"].to_list()\n",
    "        val_kappa += df[\"kappa\"].to_list()\n",
    "        \n",
    "n_val_epochs = len(val_losses)\n",
    "val_epochs = range(1, n_val_epochs+1)\n",
    "# since we save multiple train losses per epoch our csv contains list strings \n",
    "train_losses = [ast.literal_eval(t) for t in train_losses]\n",
    "# we only want to print the train loss at the end of the epoch\n",
    "train_losses = [sublist[-1] for sublist in train_losses]\n",
    "n_train_epochs = len(train_losses)\n",
    "train_epochs = range(1, n_train_epochs+1)\n",
    "plt.figure(figsize=(n_train_epochs/4, 8))\n",
    "plt.plot(train_epochs, train_losses, marker='x', label=\"Training Set\")\n",
    "plt.plot(val_epochs, val_losses, marker='x', label=\"Validation Set\")\n",
    "plt.xticks(val_epochs)\n",
    "plt.xlabel(\"Epoch\")\n",
    "plt.ylabel(\"Loss\")\n",
    "plt.legend()\n",
    "plt.savefig(\"val_train_loss.svg\", format=\"svg\")\n",
    "\n",
    "plt.clf()\n",
    "\n",
    "plt.figure(figsize=(n_val_epochs/4, 8))\n",
    "plt.plot(val_epochs, val_accuracies, label = \"accuracy\", marker='x')\n",
    "plt.plot(val_epochs, val_f1, label = \"macro-f1\", marker='*')\n",
    "plt.plot(val_epochs, val_kappa, label = \"kappa\", marker=\"o\")\n",
    "plt.xlabel(\"Epoch\")\n",
    "plt.xticks(val_epochs)\n",
    "plt.ylabel(\"Scores from 0 to 1\")\n",
    "plt.legend()\n",
    "plt.savefig(\"val_scores.svg\", format=\"svg\")\n",
    "\n",
    "plt.clf()\n"
   ]
  },
  {
   "attachments": {},
   "cell_type": "markdown",
   "metadata": {},
   "source": [
    "# Accuracy and F1-Comparison "
   ]
  },
  {
   "cell_type": "code",
   "execution_count": 8,
   "metadata": {},
   "outputs": [
    {
     "data": {
      "text/plain": [
       "<Figure size 640x480 with 0 Axes>"
      ]
     },
     "metadata": {},
     "output_type": "display_data"
    }
   ],
   "source": [
    "\n",
    "\n",
    "csv_files = [[\"/home/manuel/Bachelorarbeit/results/saved_models-new/binary/payload/vgg-19/notop/scores1.csv\"], [\"/home/manuel/Bachelorarbeit/results/saved_models-new/binary/payload/vgg-19/fc/scores1.csv\"], [\"/home/manuel/Bachelorarbeit/results/saved_models-new/binary/payload/resnet-50/resnet/scores1.csv\"], [\"/home/manuel/Bachelorarbeit/results/saved_models-new/binary/payload/resnet-50/next/scores1.csv\"]]\n",
    "\n",
    "models = [\"VGG-Notop\", \"VGG-Fully-Connected\", \"Resnet\", \"ResneXt\"]\n",
    "\n",
    "accuracies_per_model = [[],[],[],[]]\n",
    "f1_per_model = [[],[],[],[]]\n",
    "\n",
    "for idx, files in enumerate(csv_files):\n",
    "    for file in files:\n",
    "        if file.endswith(\".csv\"):\n",
    "            df = pd.read_csv(file)\n",
    "            # Training loss will be tracked during the whole training process\n",
    "            accuracies_per_model[idx] += df[\"accuracy\"].to_list()\n",
    "            f1_per_model[idx] += df[\"macro-f1\"].to_list()\n",
    "\n",
    "        \n",
    "for j, model in enumerate(models):\n",
    "    accuracies = [100* acc for acc in accuracies_per_model[j]]\n",
    "    epochs = range(1, len(accuracies)+1)\n",
    "    plt.plot(epochs, accuracies, label=model, marker=\".\")\n",
    "\n",
    "plt.ylim(50,100)\n",
    "plt.xlabel(\"Epoch\")\n",
    "plt.ylabel(\"Accuracy\")\n",
    "plt.yticks(range(50,105,5))\n",
    "plt.legend(loc='lower right')\n",
    "plt.savefig(\"Accuracy_comparison.svg\", format=\"SVG\")\n",
    "plt.clf()\n",
    "\n",
    "for j, model in enumerate(models):\n",
    "    f1 = f1_per_model[j]\n",
    "    epochs = range(1, len(f1)+1)\n",
    "    plt.plot(epochs, f1, label=model,  marker=\".\")\n",
    "\n",
    "plt.ylim(0.5,1.0)\n",
    "plt.xlabel(\"Epoch\")\n",
    "plt.ylabel(\"F1\")\n",
    "plt.yticks(np.arange(0.5,1.05,0.05))\n",
    "plt.legend(loc='lower right')\n",
    "plt.savefig(\"F1_comparison.svg\", format=\"SVG\")\n",
    "plt.clf()"
   ]
  },
  {
   "attachments": {},
   "cell_type": "markdown",
   "metadata": {},
   "source": [
    "# ROC Curve\n"
   ]
  },
  {
   "attachments": {},
   "cell_type": "markdown",
   "metadata": {},
   "source": [
    "# multiclass"
   ]
  },
  {
   "cell_type": "code",
   "execution_count": 17,
   "metadata": {},
   "outputs": [
    {
     "data": {
      "text/plain": [
       "<Figure size 640x480 with 0 Axes>"
      ]
     },
     "metadata": {},
     "output_type": "display_data"
    }
   ],
   "source": [
    "roc = torch.load(\"/home/manuel/Bachelorarbeit/results/saved_models-new/multiclass/preprocessed/vgg-19/fc/roc.pt\")\n",
    "fpr = roc[0]\n",
    "tpr = roc[1]\n",
    "color = iter(plt.cm.rainbow(np.linspace(0, 1, len(fpr))))\n",
    "for label in range(len(fpr)):\n",
    "    fpr_label = fpr[label].tolist()\n",
    "    tpr_label = tpr[label].tolist()\n",
    "    plt.plot(fpr_label, tpr_label, color = next(color), label = \"class \" + str(label))\n",
    "    plt.legend(loc = 'lower right')\n",
    "    plt.plot([0, 1], [0, 1],'r--')\n",
    "    plt.xlim([0, 1])\n",
    "    plt.ylim([0, 1])\n",
    "    plt.ylabel('True Positive Rate')\n",
    "    plt.xlabel('False Positive Rate')\n",
    "plt.savefig(\"ROC.svg\", format=\"svg\")\n",
    "plt.clf()\n"
   ]
  },
  {
   "attachments": {},
   "cell_type": "markdown",
   "metadata": {},
   "source": [
    "# binary\n"
   ]
  },
  {
   "cell_type": "code",
   "execution_count": 18,
   "metadata": {},
   "outputs": [
    {
     "name": "stderr",
     "output_type": "stream",
     "text": [
      "No artists with labels found to put in legend.  Note that artists whose label start with an underscore are ignored when legend() is called with no argument.\n"
     ]
    },
    {
     "data": {
      "text/plain": [
       "<Figure size 640x480 with 0 Axes>"
      ]
     },
     "metadata": {},
     "output_type": "display_data"
    }
   ],
   "source": [
    "roc = torch.load(\"/home/manuel/Bachelorarbeit/results/saved_models-new/binary/payload/vgg-19/fc/roc.pt\")\n",
    "fpr = roc[0]\n",
    "tpr = roc[1]\n",
    "plt.plot(fpr, tpr)\n",
    "plt.legend(loc = 'lower right')\n",
    "plt.plot([0, 1], [0, 1],'r--')\n",
    "plt.xlim([0, 1])\n",
    "plt.ylim([0, 1])\n",
    "plt.ylabel('True Positive Rate')\n",
    "plt.xlabel('False Positive Rate')\n",
    "plt.savefig(\"ROC.svg\", format=\"svg\")\n",
    "plt.clf()\n"
   ]
  },
  {
   "cell_type": "markdown",
   "metadata": {},
   "source": [
    "# Histogram of prediction distribution"
   ]
  },
  {
   "attachments": {},
   "cell_type": "markdown",
   "metadata": {},
   "source": [
    "# multiclass\n"
   ]
  },
  {
   "cell_type": "code",
   "execution_count": null,
   "metadata": {},
   "outputs": [],
   "source": [
    "distribution_json = '/home/manuel/Bachelorarbeit/results/saved_models-new/binary/payload/vgg-19/fc/bonus_scores.json'\n",
    "\n",
    "with open(distribution_json, 'r') as f:\n",
    "  distribution_dict = json.load(f)[\"Label_prediction_distribution\"]\n",
    "\n",
    "\n",
    "probability_true_label = []\n",
    "probability_other = []\n",
    "for label in distribution_dict.keys():\n",
    "    predictions_label = distribution_dict[label]\n",
    "    total_instances_label = len(predictions_label)\n",
    "    for prediction in predictions_label:\n",
    "        true_prediction = prediction[int(label)]\n",
    "        probability_true_label.append(true_prediction)\n",
    "        probability_other.append(1 - true_prediction)\n",
    "    \n",
    "    # calculate interquartile range for Freedman-Diaconis number of bins\n",
    "    probability_true_label.sort()\n",
    "    probability_other.sort()\n",
    "    \n",
    "    q3, q1 = np.percentile(probability_true_label, [75 ,25])\n",
    "    iqr = q3 - q1\n",
    "    bin_width = 2 * (q3 - q1) * np.cbrt(total_instances_label)\n",
    "    n_bins = round((max(probability_true_label) - min(probability_true_label)) / bin_width)\n",
    "    \n",
    "    plt.hist(probability_true_label, bins=n_bins, label=\"true_class\", log=True)\n",
    "    #plt.hist(probability_other, bins=n_bins, label=\"other_classes\", log=True)\n",
    "    plt.ylabel('Frequency of prediction')\n",
    "    plt.xlabel('Predicted Probability by Model')\n",
    "    plt.legend()\n",
    "    plt.savefig(\"histogram_class\" + label + \".svg\", format=\"svg\")\n",
    "    plt.clf()\n"
   ]
  },
  {
   "attachments": {},
   "cell_type": "markdown",
   "metadata": {},
   "source": [
    "# binary"
   ]
  },
  {
   "cell_type": "code",
   "execution_count": 11,
   "metadata": {},
   "outputs": [
    {
     "name": "stdout",
     "output_type": "stream",
     "text": [
      "25\n"
     ]
    },
    {
     "data": {
      "text/plain": [
       "<Figure size 640x480 with 0 Axes>"
      ]
     },
     "metadata": {},
     "output_type": "display_data"
    }
   ],
   "source": [
    "distribution_json = '/home/manuel/Bachelorarbeit/results/saved_models-new/binary/payload/vgg-19/notop/bonus_scores.json'\n",
    "\n",
    "with open(distribution_json, 'r') as f:\n",
    "  distribution_dict = json.load(f)[\"Label_prediction_distribution\"]\n",
    "\n",
    "\n",
    "probabilities_Benign = distribution_dict[\"0\"]\n",
    "probabilities_Malware = distribution_dict[\"1\"]\n",
    "\n",
    "total_instances_label = len(probabilities_Benign)\n",
    "    \n",
    "q3, q1 = np.percentile(probabilities_Benign, [75 ,25])\n",
    "iqr = q3 - q1\n",
    "bin_width = 2 * (q3 - q1) * np.cbrt(total_instances_label)\n",
    "n_bins = round((max(probabilities_Benign) - min(probabilities_Benign)) / bin_width)\n",
    "n_bins = min(n_bins, 300)\n",
    "n_bins = max(n_bins, 25)\n",
    "    \n",
    "# calculate interquartile range for Freedman-Diaconis number of bins\n",
    "for probabilities, label in zip([probabilities_Benign, probabilities_Malware], [\"Benign\", \"Malware\"]):\n",
    "    plt.hist(probabilities, bins=n_bins, label=label, weights=np.ones(len(probabilities)) / len(probabilities))\n",
    "    plt.yscale(\"log\")\n",
    "\n",
    "plt.ylabel('Fraction of instances')\n",
    "plt.xlabel('Sigmoid output by Model')\n",
    "plt.legend()\n",
    "plt.savefig(\"histogram.svg\", format=\"svg\")\n",
    "plt.clf()\n"
   ]
  },
  {
   "cell_type": "markdown",
   "metadata": {},
   "source": [
    "# Barchart most frequently mistaken classes"
   ]
  },
  {
   "cell_type": "code",
   "execution_count": null,
   "metadata": {},
   "outputs": [],
   "source": [
    "mistakes_json = '/home/manuel/Bachelorarbeit/results/saved_models-new/multiclass/preprocessed/vgg-19/notop/bonus_scores.json'\n",
    "\n",
    "with open(mistakes_json, 'r') as f:\n",
    "  mistakes = json.load(f)[\"Wrong_prediction_classes\"]\n",
    "\n",
    "count_per_combination = {}\n",
    "for mistake in mistakes:\n",
    "  mistake_sorted = list(mistake)\n",
    "  mistake_sorted.sort()\n",
    "  mistake_sorted = tuple(mistake_sorted)\n",
    "  if mistake_sorted in count_per_combination.keys():\n",
    "    count_per_combination[mistake_sorted] += 1\n",
    "  else:\n",
    "    count_per_combination[mistake_sorted] = 1\n",
    "\n",
    "top5_keys = sorted(count_per_combination, key=count_per_combination.get, reverse=True)[:5]\n",
    "top5_values = [count_per_combination[key] for key in top5_keys]\n",
    "top5_keys = [str(key) for key in top5_keys]\n",
    "plt.bar(top5_keys, top5_values, align='center', alpha=0.5)\n",
    "plt.xlabel('mistaken classes')\n",
    "plt.ylabel('occurance of mistake')\n",
    "plt.savefig(\"frequent_mistakes.svg\", format=\"svg\")\n",
    "plt.clf()\n",
    "\n",
    "\n"
   ]
  },
  {
   "cell_type": "markdown",
   "metadata": {},
   "source": [
    "# Confusion Matrix"
   ]
  },
  {
   "attachments": {},
   "cell_type": "markdown",
   "metadata": {},
   "source": [
    "Multiclass\n"
   ]
  },
  {
   "cell_type": "code",
   "execution_count": 11,
   "metadata": {},
   "outputs": [
    {
     "name": "stdout",
     "output_type": "stream",
     "text": [
      "{'BitTorrent': 0.0, 'Cridex': 0.0008130081300813008, 'FTP': 0.0010672358591248667, 'Gmail': 0.0, 'Htbot': 0.0425531914893617, 'Neris': 0.20863309352517986, 'Nsis-ay': 0.05185185185185185, 'Outlook': 0.30817217716781037, 'SMB': 0.00043038519474930065, 'Shifu': 0.0, 'Virut': 0.20127118644067796, 'Weibo': 0.0001675603217158177}\n",
      "{'BitTorrent': 0.0, 'Cridex': 0.0008130081300813385, 'FTP': 0.0010672358591248265, 'Gmail': 0.0, 'Htbot': 0.04255319148936165, 'Neris': 0.2086330935251799, 'Nsis-ay': 0.051851851851851816, 'Outlook': 0.3081721771678103, 'SMB': 0.00043038519474924986, 'Shifu': 0.0, 'Virut': 0.20127118644067798, 'Weibo': 0.00016756032171583168}\n"
     ]
    },
    {
     "data": {
      "image/png": "[encoded data removed]",
      "text/plain": [
       "<Figure size 1000x1000 with 2 Axes>"
      ]
     },
     "metadata": {},
     "output_type": "display_data"
    }
   ],
   "source": [
    "FDR_per_class = {}\n",
    "FDR2_per_class = {}\n",
    "cf_matrix = torch.load(\"/home/manuel/Bachelorarbeit/results/saved_models-new/multiclass/payload/vgg-19/fc/confusion_matrix.pt\")\n",
    "cf_matrix = cf_matrix.numpy()\n",
    "df_cm = pd.DataFrame(cf_matrix,\n",
    "                    columns = [i for i in PAYLOAD_CLASSES],\n",
    "                    index=[i for i in PAYLOAD_CLASSES])\n",
    "\n",
    "off_diag_mask = np.eye(*cf_matrix.shape, dtype=bool)\n",
    "\n",
    "for class_idx, class_name in enumerate(df_cm.columns):\n",
    "    class_predictions = df_cm[class_name]\n",
    "    class_predictions = class_predictions.to_list()\n",
    "    TP = class_predictions[class_idx]\n",
    "    false_predictions = class_predictions[:class_idx] + class_predictions[class_idx+1:]\n",
    "    FP =  np.sum(false_predictions)\n",
    "    FDR = FP / (TP + FP)\n",
    "    FDR2_per_class[class_name] = 1 - (TP / (TP+FP))\n",
    "    FDR_per_class[class_name] = FDR\n",
    "\n",
    "print(FDR_per_class)\n",
    "print(FDR2_per_class)\n",
    "plt.figure(figsize=(10,10))\n",
    "sn.heatmap(df_cm, annot=True, fmt='g', mask=off_diag_mask, cmap=\"Dark2\", annot_kws={\"color\": \"k\"})\n",
    "sn.heatmap(df_cm, fmt=\"g\", alpha=0, mask=~off_diag_mask, cbar=False, annot=True, annot_kws={\"color\": \"k\"})\n",
    "plt.ylabel(\"True Labels\")\n",
    "plt.xlabel(\"Predicted Labels\")\n",
    "plt.tight_layout()\n",
    "plt.savefig(\"Confusion.svg\", format=\"svg\", dpi = 400)"
   ]
  },
  {
   "attachments": {},
   "cell_type": "markdown",
   "metadata": {},
   "source": [
    "Binary\n"
   ]
  },
  {
   "cell_type": "code",
   "execution_count": 19,
   "metadata": {},
   "outputs": [
    {
     "name": "stdout",
     "output_type": "stream",
     "text": [
      "{'Benign': 0.0001282873636946761, 'Malware': 0.00014423770373575654}\n",
      "{'Benign': 0.00012828736369463467, 'Malware': 0.00014423770373572786}\n"
     ]
    },
    {
     "data": {
      "image/png": "[encoded data removed]",
      "text/plain": [
       "<Figure size 350x350 with 1 Axes>"
      ]
     },
     "metadata": {},
     "output_type": "display_data"
    }
   ],
   "source": [
    "FDR_per_class = {}\n",
    "FDR2_per_class = {}\n",
    "cf_matrix = torch.load(\"/home/manuel/Bachelorarbeit/results/saved_models-new/binary/preprocessed/vgg-19/notop/confusion_matrix.pt\")\n",
    "cf_matrix = cf_matrix.numpy()\n",
    "df_cm = pd.DataFrame(cf_matrix,\n",
    "                    columns = [i for i in BINARY_CLASSES],\n",
    "                    index=[i for i in BINARY_CLASSES])\n",
    "\n",
    "for class_idx, class_name in enumerate(df_cm.columns):\n",
    "    class_predictions = df_cm[class_name]\n",
    "    class_predictions = class_predictions.to_list()\n",
    "    TP = class_predictions[class_idx]\n",
    "    false_predictions = class_predictions[:class_idx] + class_predictions[class_idx+1:]\n",
    "    FP =  np.sum(false_predictions)\n",
    "    FDR = FP / (TP + FP)\n",
    "    FDR2_per_class[class_name] = 1 - (TP / (TP+FP))\n",
    "    FDR_per_class[class_name] = FDR\n",
    "\n",
    "print(FDR_per_class)\n",
    "print(FDR2_per_class)\n",
    "plt.figure(figsize=(3.5,3.5))\n",
    "sn.heatmap(np.eye(2), annot=df_cm, fmt='g',\n",
    "            cmap=sn.color_palette(['tomato', 'palegreen'], as_cmap=True), cbar=False,\n",
    "            yticklabels=BINARY_CLASSES, xticklabels=BINARY_CLASSES)\n",
    "plt.ylabel(\"True Labels\")\n",
    "plt.xlabel(\"Predicted Labels\")\n",
    "plt.tight_layout()\n",
    "plt.savefig(\"Confusion.svg\", format=\"svg\", dpi = 400)"
   ]
  },
  {
   "attachments": {},
   "cell_type": "markdown",
   "metadata": {},
   "source": [
    "# Scores to class"
   ]
  },
  {
   "cell_type": "code",
   "execution_count": 23,
   "metadata": {},
   "outputs": [
    {
     "name": "stdout",
     "output_type": "stream",
     "text": [
      "[('BitTorrent', 0.5276073619631901), ('Cridex', 0.9995933306222042), ('FTP', 0.999466097170315), ('Gmail', 0.8460431654676259), ('Htbot', 0.9617097061442564), ('Neris', 0.7457627118644068), ('Nsis-ay', 0.9292196007259528), ('Outlook', 0.8178466076696166), ('SMB', 0.9995696148052508), ('Shifu', 1.0), ('Virut', 0.8322295805739514), ('Weibo', 0.9996649355000837)]\n",
      "[('BitTorrent', 0.35833333333333334), ('Cridex', 1.0), ('FTP', 1.0), ('Gmail', 0.7331670822942643), ('Htbot', 0.9660107334525939), ('Neris', 0.7051282051282052), ('Nsis-ay', 0.9110320284697508), ('Outlook', 1.0), ('SMB', 0.9995696148052508), ('Shifu', 1.0), ('Virut', 0.868663594470046), ('Weibo', 0.9994974874371859)]\n",
      "[('BitTorrent', 1.0), ('Cridex', 0.9991869918699187), ('FTP', 0.9989327641408752), ('Gmail', 1.0), ('Htbot', 0.9574468085106383), ('Neris', 0.7913669064748201), ('Nsis-ay', 0.9481481481481482), ('Outlook', 0.6918278228321897), ('SMB', 0.9995696148052508), ('Shifu', 1.0), ('Virut', 0.798728813559322), ('Weibo', 0.9998324396782842)]\n"
     ]
    }
   ],
   "source": [
    "F1_per_label = [0.5276073619631901, 0.9995933306222042, 0.999466097170315, 0.8460431654676259, 0.9617097061442564, 0.7457627118644068, 0.9292196007259528, 0.8178466076696166, 0.9995696148052508, 1.0, 0.8322295805739514, 0.9996649355000837]\n",
    "Recall_per_label = [0.35833333333333334, 1.0, 1.0, 0.7331670822942643, 0.9660107334525939, 0.7051282051282052, 0.9110320284697508, 1.0, 0.9995696148052508, 1.0, 0.868663594470046, 0.9994974874371859]\n",
    "Precision_per_label = [1.0, 0.9991869918699187, 0.9989327641408752, 1.0, 0.9574468085106383, 0.7913669064748201, 0.9481481481481482, 0.6918278228321897, 0.9995696148052508, 1.0, 0.798728813559322, 0.9998324396782842]\n",
    "print(list(zip(PAYLOAD_CLASSES, F1_per_label)))\n",
    "print(list(zip(PAYLOAD_CLASSES, Recall_per_label)))\n",
    "print(list(zip(PAYLOAD_CLASSES, Precision_per_label)))"
   ]
  }
 ],
 "metadata": {
  "kernelspec": {
   "display_name": "Python 3 (ipykernel)",
   "language": "python",
   "name": "python3"
  },
  "language_info": {
   "codemirror_mode": {
    "name": "ipython",
    "version": 3
   },
   "file_extension": ".py",
   "mimetype": "text/x-python",
   "name": "python",
   "nbconvert_exporter": "python",
   "pygments_lexer": "ipython3",
   "version": "3.10.9"
  },
  "vscode": {
   "interpreter": {
    "hash": "352f92bedd85240d64579d4dee224faa3b6ea55c5190b725f2198dd01ae123a8"
   }
  }
 },
 "nbformat": 4,
 "nbformat_minor": 2
}
