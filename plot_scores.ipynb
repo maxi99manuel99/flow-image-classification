{
 "cells": [
  {
   "cell_type": "code",
   "execution_count": 2,
   "metadata": {},
   "outputs": [],
   "source": [
    "import pandas as pd\n",
    "import numpy as np\n",
    "import torch\n",
    "\n",
    "import matplotlib.pyplot as plt\n",
    "from matplotlib import gridspec\n",
    "import ast\n",
    "import json\n",
    "import operator\n",
    "import seaborn as sn\n",
    "\n",
    "PREPROCESSED_CLASSES = ['BitTorrent', 'Cridex', 'FTP', 'Geodo', 'Gmail', 'Htbot', 'Miuref', 'Neris', 'Nsis-ay', 'Outlook', 'SMB', 'Virut', 'Weibo', 'WorldOfWarcraft']\n",
    "PREPROCESSED_CLASSES_NERIS_VIRUT = ['BitTorrent', 'Cridex', 'FTP', 'Geodo', 'Gmail', 'Htbot', 'Miuref', 'Neris/Virut', 'Nsis-ay', 'Outlook', 'SMB', 'Weibo', 'WorldOfWarcraft']\n",
    "\n",
    "PAYLOAD_CLASSES = ['BitTorrent', 'Cridex', 'FTP', 'Gmail', 'Htbot', 'Neris', 'Nsis-ay', 'Outlook', 'SMB', 'Shifu', 'Virut', 'Weibo']\n",
    "PAYLOAD_CLASSES_NERIS_VIRUT = ['BitTorrent', 'Cridex', 'FTP', 'Gmail', 'Htbot', 'Neris/Virut', 'Nsis-ay', 'Outlook', 'SMB', 'Shifu', 'Weibo']\n",
    "BINARY_CLASSES = ['Benign', 'Malware']"
   ]
  },
  {
   "cell_type": "markdown",
   "metadata": {},
   "source": [
    "# Standard loss plots for one training task (model dataset combination)"
   ]
  },
  {
   "cell_type": "code",
   "execution_count": 13,
   "metadata": {},
   "outputs": [
    {
     "data": {
      "text/plain": [
       "<Figure size 175x800 with 0 Axes>"
      ]
     },
     "metadata": {},
     "output_type": "display_data"
    },
    {
     "data": {
      "text/plain": [
       "<Figure size 300x800 with 0 Axes>"
      ]
     },
     "metadata": {},
     "output_type": "display_data"
    }
   ],
   "source": [
    "#csv_files = [\"/home/manuel/Bachelorarbeit/results/ray_results/best_results/progress_next.csv\"] \n",
    "csv_files = [\"/home/manuel/Bachelorarbeit/results/saved_models-new/binary/payload/resnet-50/resnet/scores1.csv\"] \n",
    "train_losses = []\n",
    "val_losses = []\n",
    "val_accuracies = []\n",
    "val_f1 = []\n",
    "val_kappa = []\n",
    "\n",
    "\n",
    "for file in csv_files:\n",
    "    if file.endswith(\".csv\"):\n",
    "        df = pd.read_csv(file)\n",
    "        # Training loss will be tracked during the whole training process\n",
    "        train_losses += df[\"training-losses\"].to_list()\n",
    "\n",
    "        val_losses += df[\"loss\"].to_list()\n",
    "        val_accuracies += df[\"accuracy\"].to_list()\n",
    "        val_f1 += df[\"macro-f1\"].to_list()\n",
    "        val_kappa += df[\"kappa\"].to_list()\n",
    "        \n",
    "n_val_epochs = len(val_losses)\n",
    "val_epochs = range(1, n_val_epochs+1)\n",
    "# since we save multiple train losses per epoch our csv contains list strings \n",
    "train_losses = [ast.literal_eval(t) for t in train_losses]\n",
    "# we only want to print the train loss at the end of the epoch\n",
    "train_losses = [sublist[-1] for sublist in train_losses]\n",
    "n_train_epochs = len(train_losses)\n",
    "train_epochs = range(1, n_train_epochs+1)\n",
    "max_lim = 0.65 if (\"multiclass\" in csv_files[0] or \"progress\" in csv_files[0]) else 0.055\n",
    "\n",
    "\n",
    "outliers_train = [val for val in train_losses if val > max_lim]\n",
    "outliers_val = [val for val in val_losses if val > max_lim]\n",
    "outliers = outliers_train + outliers_val\n",
    "\n",
    "plt.rcParams.update({'font.size': 17})\n",
    "plt.figure(figsize=(n_train_epochs/4, 8))\n",
    "x_size = max(n_train_epochs/4, 3)\n",
    "if outliers:\n",
    "    gs = gridspec.GridSpec(2, 1, height_ratios=[0.3, 0.7])\n",
    "    fig = plt.figure(figsize=(x_size, 8))\n",
    "    ax1 = fig.add_subplot(gs[0])\n",
    "    ax2 = fig.add_subplot(gs[1])\n",
    "    fig.subplots_adjust(hspace=0.05)\n",
    "    max_outlier = max(outliers)\n",
    "    min_outlier = min(outliers)\n",
    "    ax1.set_ylim(min_outlier - min_outlier*0.2, max_outlier + max_outlier*0.2)\n",
    "\n",
    "    if \"multiclass\" in csv_files[0] or \"progress\" in csv_files[0]: \n",
    "        ax2.set_yticks(np.arange(0.0, 0.7, 0.1))\n",
    "        ax2.set_ylim(0.0, max_lim)\n",
    "    else:\n",
    "        ax2.set_yticks(np.arange(0.0, 0.055, 0.005))\n",
    "        ax2.set_ylim(0.0, max_lim)\n",
    "    ax1.plot(train_epochs, train_losses, marker='x', label=\"Training Set\")\n",
    "    ax2.plot(train_epochs, train_losses, marker='x', label=\"Training Set\")\n",
    "    ax1.plot(val_epochs, val_losses, marker='x', label=\"Validation Set\")\n",
    "    ax2.plot(val_epochs, val_losses, marker='x', label=\"Validation Set\")\n",
    "    ax1.spines.bottom.set_visible(False)\n",
    "    ax2.spines.top.set_visible(False)\n",
    "    ax1.tick_params(\n",
    "        axis='x',          # changes apply to the x-axis\n",
    "        which='both',      # both major and minor ticks are affected\n",
    "        bottom=False,      # ticks along the bottom edge are off\n",
    "        top=False,\n",
    "        labelbottom=False)\n",
    "    ax2.xaxis.tick_bottom()\n",
    "    kwargs = dict(marker=[(-1, -0.5), (1, 0.5)], markersize=12,\n",
    "              linestyle=\"none\", color='k', mec='k', mew=1, clip_on=False)\n",
    "    ax1.plot([0, 1], [0, 0], transform=ax1.transAxes, **kwargs)\n",
    "    ax2.plot([0, 1], [1, 1], transform=ax2.transAxes, **kwargs)\n",
    "    ax2.set_ylabel('Loss')\n",
    "    if \"multiclass\" in csv_files[0] or \"progress\" in csv_files[0]: \n",
    "        ax2.yaxis.set_label_coords(0.047, 0.5, transform=fig.transFigure)\n",
    "    else:\n",
    "        ax2.yaxis.set_label_coords(0.044, 0.5, transform=fig.transFigure)\n",
    "    fig.tight_layout()\n",
    "\n",
    "else:\n",
    "    plt.plot(train_epochs, train_losses, marker='x', label=\"Training Set\")\n",
    "    plt.plot(val_epochs, val_losses, marker='x', label=\"Validation Set\")\n",
    "    if \"multiclass\" in csv_files[0] or \"progress\" in csv_files[0]: \n",
    "        plt.yticks(np.arange(0.0, 0.7, 0.1))\n",
    "        plt.ylim(0.0, max_lim)\n",
    "    else:\n",
    "        plt.yticks(np.arange(0.0, 0.055, 0.005))\n",
    "        plt.ylim(0.0, max_lim)\n",
    "    \n",
    "    plt.ylabel(\"Loss\")\n",
    "    \n",
    "\n",
    "plt.xticks(range(0,n_train_epochs+1, 5))\n",
    "plt.xlabel(\"Epoch\")\n",
    "plt.tight_layout()\n",
    "if outliers:\n",
    "    ax1.legend(loc=\"upper right\")\n",
    "else:\n",
    "    plt.legend()\n",
    "plt.savefig(\"val_train_loss.svg\", format=\"svg\")\n",
    "\n",
    "plt.clf()\n",
    "\n"
   ]
  },
  {
   "attachments": {},
   "cell_type": "markdown",
   "metadata": {},
   "source": [
    "# Accuracy and F1-Comparison "
   ]
  },
  {
   "cell_type": "code",
   "execution_count": 49,
   "metadata": {},
   "outputs": [
    {
     "data": {
      "text/plain": [
       "<Figure size 550x800 with 0 Axes>"
      ]
     },
     "metadata": {},
     "output_type": "display_data"
    },
    {
     "data": {
      "text/plain": [
       "<Figure size 550x800 with 0 Axes>"
      ]
     },
     "metadata": {},
     "output_type": "display_data"
    },
    {
     "data": {
      "text/plain": [
       "<Figure size 550x800 with 0 Axes>"
      ]
     },
     "metadata": {},
     "output_type": "display_data"
    },
    {
     "data": {
      "text/plain": [
       "<Figure size 550x800 with 0 Axes>"
      ]
     },
     "metadata": {},
     "output_type": "display_data"
    }
   ],
   "source": [
    "#multiclass\n",
    "#payload\n",
    "csv_files = [[\"/home/manuel/Bachelorarbeit/results/saved_models-new/multiclass/payload/vgg-19/notop/scores1.csv\"], [ \"/home/manuel/Bachelorarbeit/results/saved_models-new/multiclass/payload/vgg-19/fc/scores1.csv\"], [\"/home/manuel/Bachelorarbeit/results/saved_models-new/multiclass/payload/resnet-50/resnet/scores1.csv\"], [\"/home/manuel/Bachelorarbeit/results/saved_models-new/multiclass/payload/resnet-50/next/scores1.csv\"]]\n",
    "#payload accum\n",
    "#csv_files = [[\"/home/manuel/Bachelorarbeit/results/saved_models-new/multiclass/payload/vgg-19/notop_nerisvirut/scores1.csv\"], [ \"/home/manuel/Bachelorarbeit/results/saved_models-new/multiclass/payload/vgg-19/fc_nerisvirut/scores1.csv\"], [\"/home/manuel/Bachelorarbeit/results/saved_models-new/multiclass/payload/resnet-50/resnet_nerisvirut/scores1.csv\"], [\"/home/manuel/Bachelorarbeit/results/saved_models-new/multiclass/payload/resnet-50/next_nerisvirut/scores1.csv\"]]\n",
    "#preprocessed\n",
    "#csv_files = [[\"/home/manuel/Bachelorarbeit/results/ray_results/best_results/progress_notop.csv\", \"/home/manuel/Bachelorarbeit/results/saved_models-new/multiclass/preprocessed/vgg-19/notop/scores24.csv\"], [\"/home/manuel/Bachelorarbeit/results/ray_results/best_results/progress_fc.csv\", \"/home/manuel/Bachelorarbeit/results/saved_models-new/multiclass/preprocessed/vgg-19/fc/scores24.csv\"], [\"/home/manuel/Bachelorarbeit/results/ray_results/best_results/progress_resnet.csv\"], [\"/home/manuel/Bachelorarbeit/results/ray_results/best_results/progress_next.csv\"]]\n",
    "#preprocessed accum \n",
    "#csv_files = [[\"/home/manuel/Bachelorarbeit/results/saved_models-new/multiclass/preprocessed/vgg-19/notop_nerisvirut/scores1.csv\"], [ \"/home/manuel/Bachelorarbeit/results/saved_models-new/multiclass/preprocessed/vgg-19/fc_nerisvirut/scores1.csv\"], [\"/home/manuel/Bachelorarbeit/results/saved_models-new/multiclass/preprocessed/resnet-50/resnet_nerisvirut/scores1.csv\"], [\"/home/manuel/Bachelorarbeit/results/saved_models-new/multiclass/preprocessed/resnet-50/next_nerisvirut/scores1.csv\"]]\n",
    "#binary\n",
    "#preprocessed\n",
    "#csv_files = [[\"/home/manuel/Bachelorarbeit/results/saved_models-new/binary/preprocessed/vgg-19/notop/scores1.csv\"],[\"/home/manuel/Bachelorarbeit/results/saved_models-new/binary/preprocessed/vgg-19/fc/scores1.csv\"],[\"/home/manuel/Bachelorarbeit/results/saved_models-new/binary/preprocessed/resnet-50/resnet/scores1.csv\"],[\"/home/manuel/Bachelorarbeit/results/saved_models-new/binary/preprocessed/resnet-50/next/scores1.csv\"]]\n",
    "#payload\n",
    "#csv_files = [[\"/home/manuel/Bachelorarbeit/results/saved_models-new/binary/payload/vgg-19/notop/scores1.csv\"],[\"/home/manuel/Bachelorarbeit/results/saved_models-new/binary/payload/vgg-19/fc/scores1.csv\"],[\"/home/manuel/Bachelorarbeit/results/saved_models-new/binary/payload/resnet-50/resnet/scores1.csv\"],[\"/home/manuel/Bachelorarbeit/results/saved_models-new/binary/payload/resnet-50/next/scores1.csv\"]]\n",
    "models = [\"VGG-Notop\", \"VGG-Fully-Connected\", \"Resnet\", \"ResneXt\"]\n",
    "\n",
    "accuracies_per_model = [[],[],[],[]]\n",
    "f1_per_model = [[],[],[],[]]\n",
    "\n",
    "for idx, files in enumerate(csv_files):\n",
    "    for file in files:\n",
    "        if file.endswith(\".csv\"):\n",
    "            df = pd.read_csv(file)\n",
    "            # Training loss will be tracked during the whole training process\n",
    "            accuracies_per_model[idx] += df[\"accuracy\"].to_list()\n",
    "            f1_per_model[idx] += df[\"macro-f1\"].to_list()\n",
    "\n",
    "outliers_accuracy = []\n",
    "outliers_f1 = []\n",
    "n_train_epochs = 0\n",
    "for accuracy_model in accuracies_per_model:\n",
    "    n_train_epochs = max(n_train_epochs, len(accuracy_model))\n",
    "    outliers_accuracy += [val*100 for val in accuracy_model if val < 0.68]\n",
    "for f1_model in f1_per_model:\n",
    "    outliers_f1 += [val*100 for val in f1_model if val < 0.68]\n",
    "\n",
    "plt.rcParams.update({'font.size': 17})\n",
    "plt.figure(figsize=(n_train_epochs/4, 8))\n",
    "x_size = max(n_train_epochs/4, 3)\n",
    "if outliers_accuracy:\n",
    "    gs = gridspec.GridSpec(2, 1, height_ratios=[0.7, 0.3])\n",
    "    fig = plt.figure(figsize=(x_size, 8))\n",
    "    ax1 = fig.add_subplot(gs[0])\n",
    "    ax2 = fig.add_subplot(gs[1])\n",
    "    fig.subplots_adjust(hspace=0.05)\n",
    "    max_outlier = max(outliers_accuracy)\n",
    "    min_outlier = min(outliers_accuracy)\n",
    "    ax2.set_ylim(min_outlier - min_outlier*0.2, max_outlier + max_outlier*0.2)\n",
    "\n",
    "    ax1.set_yticks(np.arange(70, 105, 5))\n",
    "    ax1.set_ylim(68, 100)\n",
    "    for j, model in enumerate(models):\n",
    "        accuracies = [100* acc for acc in accuracies_per_model[j]]\n",
    "        epochs = range(1, len(accuracies)+1)\n",
    "        ax1.plot(epochs, accuracies, label=model, marker=\".\")\n",
    "        ax2.plot(epochs, accuracies, label=model, marker=\".\")\n",
    "    \n",
    "    ax1.spines.bottom.set_visible(False)\n",
    "    ax2.spines.top.set_visible(False)\n",
    "    ax1.tick_params(\n",
    "        axis='x',          # changes apply to the x-axis\n",
    "        which='both',      # both major and minor ticks are affected\n",
    "        bottom=False,      # ticks along the bottom edge are off\n",
    "        top=False,\n",
    "        labelbottom=False)\n",
    "    ax2.xaxis.tick_bottom()\n",
    "    kwargs = dict(marker=[(-1, -0.5), (1, 0.5)], markersize=12,\n",
    "              linestyle=\"none\", color='k', mec='k', mew=1, clip_on=False)\n",
    "    ax1.plot([0, 1], [0, 0], transform=ax1.transAxes, **kwargs)\n",
    "    ax2.plot([0, 1], [1, 1], transform=ax2.transAxes, **kwargs)\n",
    "    ax1.set_ylabel('Accuracy')\n",
    "    ax1.yaxis.set_label_coords(0.047, 0.5, transform=fig.transFigure)\n",
    "    fig.tight_layout()\n",
    "\n",
    "else:\n",
    "    for j, model in enumerate(models):\n",
    "        accuracies = [100* acc for acc in accuracies_per_model[j]]\n",
    "        epochs = range(1, len(accuracies)+1)\n",
    "        plt.plot(epochs, accuracies, label=model, marker=\".\")\n",
    "    \n",
    "    plt.yticks(range(70, 105, 5))\n",
    "    plt.ylim(68,100)\n",
    "    plt.ylabel(\"Accuracy\")\n",
    "    plt.tight_layout()\n",
    "\n",
    "\n",
    "plt.xlabel(\"Epoch\")\n",
    "plt.tight_layout()\n",
    "plt.legend(loc='lower right')\n",
    "plt.savefig(\"Accuracy_comparison.svg\", format=\"SVG\")\n",
    "plt.clf()\n",
    "\n",
    "plt.figure(figsize=(n_train_epochs/4, 8))\n",
    "x_size = max(n_train_epochs/4, 3)\n",
    "if outliers_f1:\n",
    "    gs = gridspec.GridSpec(2, 1, height_ratios=[0.7, 0.3])\n",
    "    fig = plt.figure(figsize=(x_size, 8))\n",
    "    ax1 = fig.add_subplot(gs[0])\n",
    "    ax2 = fig.add_subplot(gs[1])\n",
    "    fig.subplots_adjust(hspace=0.05)\n",
    "    max_outlier = max(outliers_f1)\n",
    "    min_outlier = min(outliers_f1)\n",
    "    ax2.set_ylim(min_outlier - min_outlier*0.2, max_outlier + max_outlier*0.2)\n",
    "\n",
    "    ax1.set_yticks(np.arange(70, 105, 5))\n",
    "    ax1.set_ylim(68, 100)\n",
    "    for j, model in enumerate(models):\n",
    "        f1_scores = [100*f for f in f1_per_model[j]]\n",
    "        epochs = range(1, len(f1_scores)+1)\n",
    "        ax1.plot(epochs, f1_scores, label=model, marker=\".\")\n",
    "        ax2.plot(epochs, f1_scores, label=model, marker=\".\")\n",
    "    \n",
    "    ax1.spines.bottom.set_visible(False)\n",
    "    ax2.spines.top.set_visible(False)\n",
    "    ax1.tick_params(\n",
    "        axis='x',          # changes apply to the x-axis\n",
    "        which='both',      # both major and minor ticks are affected\n",
    "        bottom=False,      # ticks along the bottom edge are off\n",
    "        top=False,\n",
    "        labelbottom=False)\n",
    "    ax2.xaxis.tick_bottom()\n",
    "    kwargs = dict(marker=[(-1, -0.5), (1, 0.5)], markersize=12,\n",
    "              linestyle=\"none\", color='k', mec='k', mew=1, clip_on=False)\n",
    "    ax1.plot([0, 1], [0, 0], transform=ax1.transAxes, **kwargs)\n",
    "    ax2.plot([0, 1], [1, 1], transform=ax2.transAxes, **kwargs)\n",
    "    ax1.set_ylabel(\"Macro-F1\")\n",
    "    ax1.yaxis.set_label_coords(0.047, 0.5, transform=fig.transFigure)\n",
    "    fig.tight_layout()\n",
    "\n",
    "else:\n",
    "    for j, model in enumerate(models):\n",
    "        f1_scores = [100*f for f in f1_per_model[j]]\n",
    "        epochs = range(1, len(f1_scores)+1)\n",
    "        plt.plot(epochs, f1_scores, label=model, marker=\".\")\n",
    "    \n",
    "    plt.yticks(range(70, 105, 5))\n",
    "    plt.ylim(68,100)\n",
    "    plt.ylabel(\"Macro-F1\")\n",
    "    plt.tight_layout()\n",
    "\n",
    "\n",
    "plt.xlabel(\"Epoch\")\n",
    "plt.tight_layout()\n",
    "plt.legend(loc='lower right')\n",
    "plt.savefig(\"F1_comparison.svg\", format=\"SVG\")\n",
    "plt.clf()"
   ]
  },
  {
   "attachments": {},
   "cell_type": "markdown",
   "metadata": {},
   "source": [
    "# ROC Curve\n"
   ]
  },
  {
   "attachments": {},
   "cell_type": "markdown",
   "metadata": {},
   "source": [
    "# multiclass"
   ]
  },
  {
   "cell_type": "code",
   "execution_count": 17,
   "metadata": {},
   "outputs": [
    {
     "data": {
      "text/plain": [
       "<Figure size 640x480 with 0 Axes>"
      ]
     },
     "metadata": {},
     "output_type": "display_data"
    }
   ],
   "source": [
    "roc = torch.load(\"/home/manuel/Bachelorarbeit/results/saved_models-new/multiclass/preprocessed/vgg-19/fc/roc.pt\")\n",
    "fpr = roc[0]\n",
    "tpr = roc[1]\n",
    "color = iter(plt.cm.rainbow(np.linspace(0, 1, len(fpr))))\n",
    "for label in range(len(fpr)):\n",
    "    fpr_label = fpr[label].tolist()\n",
    "    tpr_label = tpr[label].tolist()\n",
    "    plt.plot(fpr_label, tpr_label, color = next(color), label = \"class \" + str(label))\n",
    "    plt.legend(loc = 'lower right')\n",
    "    plt.plot([0, 1], [0, 1],'r--')\n",
    "    plt.xlim([0, 1])\n",
    "    plt.ylim([0, 1])\n",
    "    plt.ylabel('True Positive Rate')\n",
    "    plt.xlabel('False Positive Rate')\n",
    "plt.savefig(\"ROC.svg\", format=\"svg\")\n",
    "plt.clf()\n"
   ]
  },
  {
   "attachments": {},
   "cell_type": "markdown",
   "metadata": {},
   "source": [
    "# binary\n"
   ]
  },
  {
   "cell_type": "code",
   "execution_count": 18,
   "metadata": {},
   "outputs": [
    {
     "name": "stderr",
     "output_type": "stream",
     "text": [
      "No artists with labels found to put in legend.  Note that artists whose label start with an underscore are ignored when legend() is called with no argument.\n"
     ]
    },
    {
     "data": {
      "text/plain": [
       "<Figure size 640x480 with 0 Axes>"
      ]
     },
     "metadata": {},
     "output_type": "display_data"
    }
   ],
   "source": [
    "roc = torch.load(\"/home/manuel/Bachelorarbeit/results/saved_models-new/binary/payload/vgg-19/fc/roc.pt\")\n",
    "fpr = roc[0]\n",
    "tpr = roc[1]\n",
    "plt.plot(fpr, tpr)\n",
    "plt.legend(loc = 'lower right')\n",
    "plt.plot([0, 1], [0, 1],'r--')\n",
    "plt.xlim([0, 1])\n",
    "plt.ylim([0, 1])\n",
    "plt.ylabel('True Positive Rate')\n",
    "plt.xlabel('False Positive Rate')\n",
    "plt.savefig(\"ROC.svg\", format=\"svg\")\n",
    "plt.clf()\n"
   ]
  },
  {
   "cell_type": "markdown",
   "metadata": {},
   "source": [
    "# Histogram of prediction distribution"
   ]
  },
  {
   "attachments": {},
   "cell_type": "markdown",
   "metadata": {},
   "source": [
    "# multiclass\n"
   ]
  },
  {
   "cell_type": "code",
   "execution_count": null,
   "metadata": {},
   "outputs": [],
   "source": [
    "distribution_json = '/home/manuel/Bachelorarbeit/results/saved_models-new/binary/payload/vgg-19/fc/bonus_scores.json'\n",
    "\n",
    "with open(distribution_json, 'r') as f:\n",
    "  distribution_dict = json.load(f)[\"Label_prediction_distribution\"]\n",
    "\n",
    "\n",
    "probability_true_label = []\n",
    "probability_other = []\n",
    "for label in distribution_dict.keys():\n",
    "    predictions_label = distribution_dict[label]\n",
    "    total_instances_label = len(predictions_label)\n",
    "    for prediction in predictions_label:\n",
    "        true_prediction = prediction[int(label)]\n",
    "        probability_true_label.append(true_prediction)\n",
    "        probability_other.append(1 - true_prediction)\n",
    "    \n",
    "    # calculate interquartile range for Freedman-Diaconis number of bins\n",
    "    probability_true_label.sort()\n",
    "    probability_other.sort()\n",
    "    \n",
    "    q3, q1 = np.percentile(probability_true_label, [75 ,25])\n",
    "    iqr = q3 - q1\n",
    "    bin_width = 2 * (q3 - q1) * np.cbrt(total_instances_label)\n",
    "    n_bins = round((max(probability_true_label) - min(probability_true_label)) / bin_width)\n",
    "    \n",
    "    plt.hist(probability_true_label, bins=n_bins, label=\"true_class\", log=True)\n",
    "    #plt.hist(probability_other, bins=n_bins, label=\"other_classes\", log=True)\n",
    "    plt.ylabel('Frequency of prediction')\n",
    "    plt.xlabel('Predicted Probability by Model')\n",
    "    plt.legend()\n",
    "    plt.savefig(\"histogram_class\" + label + \".svg\", format=\"svg\")\n",
    "    plt.clf()\n"
   ]
  },
  {
   "attachments": {},
   "cell_type": "markdown",
   "metadata": {},
   "source": [
    "# binary"
   ]
  },
  {
   "cell_type": "code",
   "execution_count": 25,
   "metadata": {},
   "outputs": [
    {
     "data": {
      "text/plain": [
       "<Figure size 640x480 with 0 Axes>"
      ]
     },
     "metadata": {},
     "output_type": "display_data"
    }
   ],
   "source": [
    "distribution_json = '/home/manuel/Bachelorarbeit/results/saved_models-new/binary/payload/vgg-19/fc/bonus_scores.json'\n",
    "\n",
    "with open(distribution_json, 'r') as f:\n",
    "  distribution_dict = json.load(f)[\"Label_prediction_distribution\"]\n",
    "\n",
    "\n",
    "probabilities_Benign = distribution_dict[\"0\"]\n",
    "probabilities_Malware = distribution_dict[\"1\"]\n",
    "\n",
    "total_instances_label = len(probabilities_Benign)\n",
    "    \n",
    "q3, q1 = np.percentile(probabilities_Benign, [75 ,25])\n",
    "iqr = q3 - q1\n",
    "bin_width = 2 * (q3 - q1) * np.cbrt(total_instances_label)\n",
    "n_bins = round((max(probabilities_Benign) - min(probabilities_Benign)) / bin_width)\n",
    "n_bins = min(n_bins, 300)\n",
    "n_bins = max(n_bins, 25)\n",
    "    \n",
    "plt.rcParams.update({'font.size': 17})\n",
    "plt.hist(probabilities_Benign, bins=n_bins, label=\"Benign\", weights=np.ones(len(probabilities_Benign)) / len(probabilities_Benign),\n",
    "          alpha=0.5)\n",
    "plt.hist(probabilities_Malware, bins=n_bins, label=\"Malware\", weights=np.ones(len(probabilities_Malware)) / len(probabilities_Malware),\n",
    "          alpha=0.5)\n",
    "\n",
    "plt.yscale(\"log\")\n",
    "\n",
    "plt.ylabel('Fraction of instances')\n",
    "plt.xlabel('Sigmoid output by Model')\n",
    "plt.legend(loc=\"upper center\")\n",
    "plt.tight_layout()\n",
    "plt.savefig(\"histogram.svg\", format=\"svg\")\n",
    "plt.clf()\n"
   ]
  },
  {
   "cell_type": "markdown",
   "metadata": {},
   "source": [
    "# Barchart most frequently mistaken classes"
   ]
  },
  {
   "cell_type": "code",
   "execution_count": null,
   "metadata": {},
   "outputs": [],
   "source": [
    "mistakes_json = '/home/manuel/Bachelorarbeit/results/saved_models-new/multiclass/preprocessed/vgg-19/notop/bonus_scores.json'\n",
    "\n",
    "with open(mistakes_json, 'r') as f:\n",
    "  mistakes = json.load(f)[\"Wrong_prediction_classes\"]\n",
    "\n",
    "count_per_combination = {}\n",
    "for mistake in mistakes:\n",
    "  mistake_sorted = list(mistake)\n",
    "  mistake_sorted.sort()\n",
    "  mistake_sorted = tuple(mistake_sorted)\n",
    "  if mistake_sorted in count_per_combination.keys():\n",
    "    count_per_combination[mistake_sorted] += 1\n",
    "  else:\n",
    "    count_per_combination[mistake_sorted] = 1\n",
    "\n",
    "top5_keys = sorted(count_per_combination, key=count_per_combination.get, reverse=True)[:5]\n",
    "top5_values = [count_per_combination[key] for key in top5_keys]\n",
    "top5_keys = [str(key) for key in top5_keys]\n",
    "plt.bar(top5_keys, top5_values, align='center', alpha=0.5)\n",
    "plt.xlabel('mistaken classes')\n",
    "plt.ylabel('occurance of mistake')\n",
    "plt.savefig(\"frequent_mistakes.svg\", format=\"svg\")\n",
    "plt.clf()\n",
    "\n",
    "\n"
   ]
  },
  {
   "cell_type": "markdown",
   "metadata": {},
   "source": [
    "# Confusion Matrix"
   ]
  },
  {
   "attachments": {},
   "cell_type": "markdown",
   "metadata": {},
   "source": [
    "Multiclass\n"
   ]
  },
  {
   "cell_type": "code",
   "execution_count": 32,
   "metadata": {},
   "outputs": [
    {
     "ename": "ValueError",
     "evalue": "Shape of passed values is (13, 13), indices imply (14, 14)",
     "output_type": "error",
     "traceback": [
      "\u001b[0;31m---------------------------------------------------------------------------\u001b[0m",
      "\u001b[0;31mValueError\u001b[0m                                Traceback (most recent call last)",
      "Cell \u001b[0;32mIn[32], line 5\u001b[0m\n\u001b[1;32m      3\u001b[0m cf_matrix \u001b[39m=\u001b[39m torch\u001b[39m.\u001b[39mload(\u001b[39m\"\u001b[39m\u001b[39m/home/manuel/Bachelorarbeit/results/saved_models-new/multiclass/preprocessed/vgg-19/fc_nerisvirut/confusion_matrix.pt\u001b[39m\u001b[39m\"\u001b[39m)\n\u001b[1;32m      4\u001b[0m cf_matrix \u001b[39m=\u001b[39m cf_matrix\u001b[39m.\u001b[39mnumpy()\n\u001b[0;32m----> 5\u001b[0m df_cm \u001b[39m=\u001b[39m pd\u001b[39m.\u001b[39;49mDataFrame(cf_matrix,\n\u001b[1;32m      6\u001b[0m                     columns \u001b[39m=\u001b[39;49m [i \u001b[39mfor\u001b[39;49;00m i \u001b[39min\u001b[39;49;00m PREPROCESSED_CLASSES],\n\u001b[1;32m      7\u001b[0m                     index\u001b[39m=\u001b[39;49m[i \u001b[39mfor\u001b[39;49;00m i \u001b[39min\u001b[39;49;00m PREPROCESSED_CLASSES])\n\u001b[1;32m      9\u001b[0m off_diag_mask \u001b[39m=\u001b[39m np\u001b[39m.\u001b[39meye(\u001b[39m*\u001b[39mcf_matrix\u001b[39m.\u001b[39mshape, dtype\u001b[39m=\u001b[39m\u001b[39mbool\u001b[39m)\n\u001b[1;32m     11\u001b[0m \u001b[39mfor\u001b[39;00m class_idx, class_name \u001b[39min\u001b[39;00m \u001b[39menumerate\u001b[39m(df_cm\u001b[39m.\u001b[39mcolumns):\n",
      "File \u001b[0;32m~/Bachelorarbeit/venv/lib/python3.10/site-packages/pandas/core/frame.py:694\u001b[0m, in \u001b[0;36mDataFrame.__init__\u001b[0;34m(self, data, index, columns, dtype, copy)\u001b[0m\n\u001b[1;32m    684\u001b[0m         mgr \u001b[39m=\u001b[39m dict_to_mgr(\n\u001b[1;32m    685\u001b[0m             \u001b[39m# error: Item \"ndarray\" of \"Union[ndarray, Series, Index]\" has no\u001b[39;00m\n\u001b[1;32m    686\u001b[0m             \u001b[39m# attribute \"name\"\u001b[39;00m\n\u001b[0;32m   (...)\u001b[0m\n\u001b[1;32m    691\u001b[0m             typ\u001b[39m=\u001b[39mmanager,\n\u001b[1;32m    692\u001b[0m         )\n\u001b[1;32m    693\u001b[0m     \u001b[39melse\u001b[39;00m:\n\u001b[0;32m--> 694\u001b[0m         mgr \u001b[39m=\u001b[39m ndarray_to_mgr(\n\u001b[1;32m    695\u001b[0m             data,\n\u001b[1;32m    696\u001b[0m             index,\n\u001b[1;32m    697\u001b[0m             columns,\n\u001b[1;32m    698\u001b[0m             dtype\u001b[39m=\u001b[39;49mdtype,\n\u001b[1;32m    699\u001b[0m             copy\u001b[39m=\u001b[39;49mcopy,\n\u001b[1;32m    700\u001b[0m             typ\u001b[39m=\u001b[39;49mmanager,\n\u001b[1;32m    701\u001b[0m         )\n\u001b[1;32m    703\u001b[0m \u001b[39m# For data is list-like, or Iterable (will consume into list)\u001b[39;00m\n\u001b[1;32m    704\u001b[0m \u001b[39melif\u001b[39;00m is_list_like(data):\n",
      "File \u001b[0;32m~/Bachelorarbeit/venv/lib/python3.10/site-packages/pandas/core/internals/construction.py:351\u001b[0m, in \u001b[0;36mndarray_to_mgr\u001b[0;34m(values, index, columns, dtype, copy, typ)\u001b[0m\n\u001b[1;32m    346\u001b[0m \u001b[39m# _prep_ndarray ensures that values.ndim == 2 at this point\u001b[39;00m\n\u001b[1;32m    347\u001b[0m index, columns \u001b[39m=\u001b[39m _get_axes(\n\u001b[1;32m    348\u001b[0m     values\u001b[39m.\u001b[39mshape[\u001b[39m0\u001b[39m], values\u001b[39m.\u001b[39mshape[\u001b[39m1\u001b[39m], index\u001b[39m=\u001b[39mindex, columns\u001b[39m=\u001b[39mcolumns\n\u001b[1;32m    349\u001b[0m )\n\u001b[0;32m--> 351\u001b[0m _check_values_indices_shape_match(values, index, columns)\n\u001b[1;32m    353\u001b[0m \u001b[39mif\u001b[39;00m typ \u001b[39m==\u001b[39m \u001b[39m\"\u001b[39m\u001b[39marray\u001b[39m\u001b[39m\"\u001b[39m:\n\u001b[1;32m    355\u001b[0m     \u001b[39mif\u001b[39;00m \u001b[39missubclass\u001b[39m(values\u001b[39m.\u001b[39mdtype\u001b[39m.\u001b[39mtype, \u001b[39mstr\u001b[39m):\n",
      "File \u001b[0;32m~/Bachelorarbeit/venv/lib/python3.10/site-packages/pandas/core/internals/construction.py:422\u001b[0m, in \u001b[0;36m_check_values_indices_shape_match\u001b[0;34m(values, index, columns)\u001b[0m\n\u001b[1;32m    420\u001b[0m passed \u001b[39m=\u001b[39m values\u001b[39m.\u001b[39mshape\n\u001b[1;32m    421\u001b[0m implied \u001b[39m=\u001b[39m (\u001b[39mlen\u001b[39m(index), \u001b[39mlen\u001b[39m(columns))\n\u001b[0;32m--> 422\u001b[0m \u001b[39mraise\u001b[39;00m \u001b[39mValueError\u001b[39;00m(\u001b[39mf\u001b[39m\u001b[39m\"\u001b[39m\u001b[39mShape of passed values is \u001b[39m\u001b[39m{\u001b[39;00mpassed\u001b[39m}\u001b[39;00m\u001b[39m, indices imply \u001b[39m\u001b[39m{\u001b[39;00mimplied\u001b[39m}\u001b[39;00m\u001b[39m\"\u001b[39m)\n",
      "\u001b[0;31mValueError\u001b[0m: Shape of passed values is (13, 13), indices imply (14, 14)"
     ]
    }
   ],
   "source": [
    "FDR_per_class = {}\n",
    "FDR2_per_class = {}\n",
    "cf_matrix = torch.load(\"/home/manuel/Bachelorarbeit/results/saved_models-new/multiclass/preprocessed/vgg-19/fc_nerisvirut/confusion_matrix.pt\")\n",
    "cf_matrix = cf_matrix.numpy()\n",
    "df_cm = pd.DataFrame(cf_matrix,\n",
    "                    columns = [i for i in PREPROCESSED_CLASSES_NERIS_VIRUT],\n",
    "                    index=[i for i in PREPROCESSED_CLASSES_NERIS_VIRUT])\n",
    "\n",
    "off_diag_mask = np.eye(*cf_matrix.shape, dtype=bool)\n",
    "\n",
    "for class_idx, class_name in enumerate(df_cm.columns):\n",
    "    class_predictions = df_cm[class_name]\n",
    "    class_predictions = class_predictions.to_list()\n",
    "    TP = class_predictions[class_idx]\n",
    "    false_predictions = class_predictions[:class_idx] + class_predictions[class_idx+1:]\n",
    "    FP =  np.sum(false_predictions)\n",
    "    FDR = FP / (TP + FP)\n",
    "    FDR2_per_class[class_name] = 1 - (TP / (TP+FP))\n",
    "    FDR_per_class[class_name] = FDR\n",
    "\n",
    "print(FDR_per_class)\n",
    "print(FDR2_per_class)\n",
    "plt.rcParams.update({'font.size': 17})\n",
    "plt.figure(figsize=(10,10))\n",
    "sn.heatmap(df_cm, annot=True, fmt='g', mask=off_diag_mask, cmap=\"Dark2\", annot_kws={\"color\": \"k\", \"size\": 12})\n",
    "sn.heatmap(df_cm, fmt=\"g\", alpha=0, mask=~off_diag_mask, cbar=False, annot=True, annot_kws={\"color\": \"k\", \"size\": 12})\n",
    "plt.ylabel(\"True Labels\")\n",
    "plt.xlabel(\"Predicted Labels\")\n",
    "plt.tight_layout()\n",
    "plt.savefig(\"Confusion.svg\", format=\"svg\", dpi = 400)"
   ]
  },
  {
   "attachments": {},
   "cell_type": "markdown",
   "metadata": {},
   "source": [
    "Binary\n"
   ]
  },
  {
   "cell_type": "code",
   "execution_count": 20,
   "metadata": {},
   "outputs": [
    {
     "name": "stdout",
     "output_type": "stream",
     "text": [
      "{'Benign': 6.414368184733804e-05, 'Malware': 0.0}\n",
      "{'Benign': 6.414368184737285e-05, 'Malware': 0.0}\n"
     ]
    },
    {
     "data": {
      "image/png": "[encoded data removed]",
      "text/plain": [
       "<Figure size 350x350 with 1 Axes>"
      ]
     },
     "metadata": {},
     "output_type": "display_data"
    }
   ],
   "source": [
    "FDR_per_class = {}\n",
    "FDR2_per_class = {}\n",
    "cf_matrix = torch.load(\"/home/manuel/Bachelorarbeit/results/saved_models-new/binary/preprocessed/vgg-19/notop/confusion_matrix.pt\")\n",
    "cf_matrix = cf_matrix.numpy()\n",
    "df_cm = pd.DataFrame(cf_matrix,\n",
    "                    columns = [i for i in BINARY_CLASSES],\n",
    "                    index=[i for i in BINARY_CLASSES])\n",
    "\n",
    "for class_idx, class_name in enumerate(df_cm.columns):\n",
    "    class_predictions = df_cm[class_name]\n",
    "    class_predictions = class_predictions.to_list()\n",
    "    TP = class_predictions[class_idx]\n",
    "    false_predictions = class_predictions[:class_idx] + class_predictions[class_idx+1:]\n",
    "    FP =  np.sum(false_predictions)\n",
    "    FDR = FP / (TP + FP)\n",
    "    FDR2_per_class[class_name] = 1 - (TP / (TP+FP))\n",
    "    FDR_per_class[class_name] = FDR\n",
    "\n",
    "print(FDR_per_class)\n",
    "print(FDR2_per_class)\n",
    "plt.figure(figsize=(3.5,3.5))\n",
    "sn.heatmap(np.eye(2), annot=df_cm, fmt='g',\n",
    "            cmap=sn.color_palette(['tomato', 'palegreen'], as_cmap=True), cbar=False,\n",
    "            yticklabels=BINARY_CLASSES, xticklabels=BINARY_CLASSES)\n",
    "plt.ylabel(\"True Labels\")\n",
    "plt.xlabel(\"Predicted Labels\")\n",
    "plt.tight_layout()\n",
    "plt.savefig(\"Confusion.svg\", format=\"svg\", dpi = 400)"
   ]
  },
  {
   "attachments": {},
   "cell_type": "markdown",
   "metadata": {},
   "source": [
    "# Scores to class"
   ]
  },
  {
   "cell_type": "code",
   "execution_count": 23,
   "metadata": {},
   "outputs": [
    {
     "name": "stdout",
     "output_type": "stream",
     "text": [
      "[('BitTorrent', 0.5276073619631901), ('Cridex', 0.9995933306222042), ('FTP', 0.999466097170315), ('Gmail', 0.8460431654676259), ('Htbot', 0.9617097061442564), ('Neris', 0.7457627118644068), ('Nsis-ay', 0.9292196007259528), ('Outlook', 0.8178466076696166), ('SMB', 0.9995696148052508), ('Shifu', 1.0), ('Virut', 0.8322295805739514), ('Weibo', 0.9996649355000837)]\n",
      "[('BitTorrent', 0.35833333333333334), ('Cridex', 1.0), ('FTP', 1.0), ('Gmail', 0.7331670822942643), ('Htbot', 0.9660107334525939), ('Neris', 0.7051282051282052), ('Nsis-ay', 0.9110320284697508), ('Outlook', 1.0), ('SMB', 0.9995696148052508), ('Shifu', 1.0), ('Virut', 0.868663594470046), ('Weibo', 0.9994974874371859)]\n",
      "[('BitTorrent', 1.0), ('Cridex', 0.9991869918699187), ('FTP', 0.9989327641408752), ('Gmail', 1.0), ('Htbot', 0.9574468085106383), ('Neris', 0.7913669064748201), ('Nsis-ay', 0.9481481481481482), ('Outlook', 0.6918278228321897), ('SMB', 0.9995696148052508), ('Shifu', 1.0), ('Virut', 0.798728813559322), ('Weibo', 0.9998324396782842)]\n"
     ]
    }
   ],
   "source": [
    "F1_per_label = [0.5276073619631901, 0.9995933306222042, 0.999466097170315, 0.8460431654676259, 0.9617097061442564, 0.7457627118644068, 0.9292196007259528, 0.8178466076696166, 0.9995696148052508, 1.0, 0.8322295805739514, 0.9996649355000837]\n",
    "Recall_per_label = [0.35833333333333334, 1.0, 1.0, 0.7331670822942643, 0.9660107334525939, 0.7051282051282052, 0.9110320284697508, 1.0, 0.9995696148052508, 1.0, 0.868663594470046, 0.9994974874371859]\n",
    "Precision_per_label = [1.0, 0.9991869918699187, 0.9989327641408752, 1.0, 0.9574468085106383, 0.7913669064748201, 0.9481481481481482, 0.6918278228321897, 0.9995696148052508, 1.0, 0.798728813559322, 0.9998324396782842]\n",
    "print(list(zip(PAYLOAD_CLASSES, F1_per_label)))\n",
    "print(list(zip(PAYLOAD_CLASSES, Recall_per_label)))\n",
    "print(list(zip(PAYLOAD_CLASSES, Precision_per_label)))"
   ]
  }
 ],
 "metadata": {
  "kernelspec": {
   "display_name": "Python 3 (ipykernel)",
   "language": "python",
   "name": "python3"
  },
  "language_info": {
   "codemirror_mode": {
    "name": "ipython",
    "version": 3
   },
   "file_extension": ".py",
   "mimetype": "text/x-python",
   "name": "python",
   "nbconvert_exporter": "python",
   "pygments_lexer": "ipython3",
   "version": "3.10.9"
  },
  "vscode": {
   "interpreter": {
    "hash": "352f92bedd85240d64579d4dee224faa3b6ea55c5190b725f2198dd01ae123a8"
   }
  }
 },
 "nbformat": 4,
 "nbformat_minor": 2
}
